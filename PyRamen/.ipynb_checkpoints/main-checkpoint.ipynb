{
 "cells": [
  {
   "cell_type": "code",
   "execution_count": 12,
   "id": "7109a756-408a-4656-a44a-522b97bea4e8",
   "metadata": {},
   "outputs": [],
   "source": [
    "# initial imports for menu data\n",
    "import pandas as pd\n",
    "from pathlib import Path"
   ]
  },
  {
   "cell_type": "code",
   "execution_count": 2,
   "id": "33646f7f-ea9a-4fce-91b4-15fb27886559",
   "metadata": {},
   "outputs": [],
   "source": [
    "# set the file path menu data\n",
    "file_path = Path(\"../PyRamen/menu_data.csv\")\n",
    "\n",
    "# create a Pandas DataFrame from a csv file\n",
    "menu_df = pd.read_csv(file_path)"
   ]
  },
  {
   "cell_type": "code",
   "execution_count": 37,
   "id": "d876ce50-3287-4d25-bf7d-1ca8add3597c",
   "metadata": {},
   "outputs": [
    {
     "name": "stdout",
     "output_type": "stream",
     "text": [
      "edamame\n",
      "house salad\n",
      "cucumber sunomono salad\n",
      "hiyashi wakame seaweed salad\n",
      "agedashi tofu\n",
      "hiyayakko tofu\n",
      "pork floss bao\n",
      "kakuni bao\n",
      "edamame fried gyoza (vegan)\n",
      "fried gyoza\n",
      "takoyaki\n",
      "rock shrimp tempura\n",
      "soft-shell crab tempura\n",
      "ebi katsu shrimp bao\n",
      "nagomi shoyu\n",
      "shio ramen\n",
      "spicy miso ramen\n",
      "vegetarian spicy miso\n",
      "miso crab ramen\n",
      "soft-shell miso crab ramen\n",
      "tori paitan ramen\n",
      "tonkotsu ramen\n",
      "burnt garlic tonkotsu ramen\n",
      "vegetarian curry + king trumpet mushroom ramen\n",
      "truffle butter ramen\n",
      "green tea\n",
      "coke\n",
      "black sesame ice cream\n",
      "matcha ice cream\n",
      "mango mochi ice cream\n",
      "strawberry mochi ice cream\n",
      "black sesame creme brulee\n"
     ]
    }
   ],
   "source": [
    "# Initialize an empty menu list object to hold the contents of menu_data.csv\n",
    "\n",
    "menu_list = []\n",
    "\n",
    "# Use a with statement and open the menu_data.csv by using its file path.\n",
    "\n",
    "import csv\n",
    "\n",
    "with open(file_path, newline=\"\") as csvfile:\n",
    "    csvreader = csv.reader(csvfile, delimiter=\",\")\n",
    "\n",
    "# Use the reader function from the csv library to begin reading menu_data.csv\n",
    "# Use the next function to skip the header (first row of the CSV).\n",
    "    csv_header = next(csvreader)\n",
    "    for row in csvreader:\n",
    "            print(row[0])"
   ]
  },
  {
   "cell_type": "code",
   "execution_count": null,
   "id": "6bd2f318-0cbc-4551-9264-1ef0a8f4d686",
   "metadata": {},
   "outputs": [],
   "source": [
    "# Loop over the rest of the rows and append every row to the menu list object (the outcome will be a list of lists)\n",
    "\n",
    "menu_list.append(row[:])\n",
    "    \n",
    "menu_list    "
   ]
  }
 ],
 "metadata": {
  "kernelspec": {
   "display_name": "Python 3 (ipykernel)",
   "language": "python",
   "name": "python3"
  },
  "language_info": {
   "codemirror_mode": {
    "name": "ipython",
    "version": 3
   },
   "file_extension": ".py",
   "mimetype": "text/x-python",
   "name": "python",
   "nbconvert_exporter": "python",
   "pygments_lexer": "ipython3",
   "version": "3.7.11"
  }
 },
 "nbformat": 4,
 "nbformat_minor": 5
}
