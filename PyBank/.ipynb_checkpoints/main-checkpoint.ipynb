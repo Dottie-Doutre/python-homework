{
 "cells": [
  {
   "cell_type": "code",
   "execution_count": 2,
   "id": "4cc5d3fa-e77d-40a5-90d7-a62bff7ea6bc",
   "metadata": {},
   "outputs": [],
   "source": [
    "# Import libraries and dependencies\n",
    "\n",
    "import pandas as pd\n",
    "from pathlib import Path"
   ]
  },
  {
   "cell_type": "code",
   "execution_count": 168,
   "id": "17deefe1-0521-4cd6-a999-694dc88e80e6",
   "metadata": {},
   "outputs": [
    {
     "data": {
      "text/html": [
       "<div>\n",
       "<style scoped>\n",
       "    .dataframe tbody tr th:only-of-type {\n",
       "        vertical-align: middle;\n",
       "    }\n",
       "\n",
       "    .dataframe tbody tr th {\n",
       "        vertical-align: top;\n",
       "    }\n",
       "\n",
       "    .dataframe thead th {\n",
       "        text-align: right;\n",
       "    }\n",
       "</style>\n",
       "<table border=\"1\" class=\"dataframe\">\n",
       "  <thead>\n",
       "    <tr style=\"text-align: right;\">\n",
       "      <th></th>\n",
       "      <th>Date</th>\n",
       "      <th>Profit/Losses</th>\n",
       "    </tr>\n",
       "  </thead>\n",
       "  <tbody>\n",
       "    <tr>\n",
       "      <th>0</th>\n",
       "      <td>Jan-2010</td>\n",
       "      <td>867884</td>\n",
       "    </tr>\n",
       "    <tr>\n",
       "      <th>1</th>\n",
       "      <td>Feb-2010</td>\n",
       "      <td>984655</td>\n",
       "    </tr>\n",
       "    <tr>\n",
       "      <th>2</th>\n",
       "      <td>Mar-2010</td>\n",
       "      <td>322013</td>\n",
       "    </tr>\n",
       "    <tr>\n",
       "      <th>3</th>\n",
       "      <td>Apr-2010</td>\n",
       "      <td>-69417</td>\n",
       "    </tr>\n",
       "    <tr>\n",
       "      <th>4</th>\n",
       "      <td>May-2010</td>\n",
       "      <td>310503</td>\n",
       "    </tr>\n",
       "  </tbody>\n",
       "</table>\n",
       "</div>"
      ],
      "text/plain": [
       "       Date  Profit/Losses\n",
       "0  Jan-2010         867884\n",
       "1  Feb-2010         984655\n",
       "2  Mar-2010         322013\n",
       "3  Apr-2010         -69417\n",
       "4  May-2010         310503"
      ]
     },
     "execution_count": 168,
     "metadata": {},
     "output_type": "execute_result"
    }
   ],
   "source": [
    "# Set the path\n",
    "\n",
    "file_path = Path(\"../PyBank/budget_data.csv\")\n",
    "\n",
    "budget_csv = pd.read_csv(file_path)\n",
    "budget_csv.head()"
   ]
  },
  {
   "cell_type": "code",
   "execution_count": 171,
   "id": "f769d475-f3bd-4d89-a6b3-6f1f574aa1f1",
   "metadata": {},
   "outputs": [
    {
     "data": {
      "text/html": [
       "<div>\n",
       "<style scoped>\n",
       "    .dataframe tbody tr th:only-of-type {\n",
       "        vertical-align: middle;\n",
       "    }\n",
       "\n",
       "    .dataframe tbody tr th {\n",
       "        vertical-align: top;\n",
       "    }\n",
       "\n",
       "    .dataframe thead th {\n",
       "        text-align: right;\n",
       "    }\n",
       "</style>\n",
       "<table border=\"1\" class=\"dataframe\">\n",
       "  <thead>\n",
       "    <tr style=\"text-align: right;\">\n",
       "      <th></th>\n",
       "      <th>Profit/Losses</th>\n",
       "    </tr>\n",
       "    <tr>\n",
       "      <th>Date</th>\n",
       "      <th></th>\n",
       "    </tr>\n",
       "  </thead>\n",
       "  <tbody>\n",
       "    <tr>\n",
       "      <th>2010-01-01</th>\n",
       "      <td>867884</td>\n",
       "    </tr>\n",
       "    <tr>\n",
       "      <th>2010-02-01</th>\n",
       "      <td>984655</td>\n",
       "    </tr>\n",
       "    <tr>\n",
       "      <th>2010-03-01</th>\n",
       "      <td>322013</td>\n",
       "    </tr>\n",
       "    <tr>\n",
       "      <th>2010-04-01</th>\n",
       "      <td>-69417</td>\n",
       "    </tr>\n",
       "    <tr>\n",
       "      <th>2010-05-01</th>\n",
       "      <td>310503</td>\n",
       "    </tr>\n",
       "    <tr>\n",
       "      <th>...</th>\n",
       "      <td>...</td>\n",
       "    </tr>\n",
       "    <tr>\n",
       "      <th>2016-10-01</th>\n",
       "      <td>102685</td>\n",
       "    </tr>\n",
       "    <tr>\n",
       "      <th>2016-11-01</th>\n",
       "      <td>795914</td>\n",
       "    </tr>\n",
       "    <tr>\n",
       "      <th>2016-12-01</th>\n",
       "      <td>60988</td>\n",
       "    </tr>\n",
       "    <tr>\n",
       "      <th>2017-01-01</th>\n",
       "      <td>138230</td>\n",
       "    </tr>\n",
       "    <tr>\n",
       "      <th>2017-02-01</th>\n",
       "      <td>671099</td>\n",
       "    </tr>\n",
       "  </tbody>\n",
       "</table>\n",
       "<p>86 rows × 1 columns</p>\n",
       "</div>"
      ],
      "text/plain": [
       "            Profit/Losses\n",
       "Date                     \n",
       "2010-01-01         867884\n",
       "2010-02-01         984655\n",
       "2010-03-01         322013\n",
       "2010-04-01         -69417\n",
       "2010-05-01         310503\n",
       "...                   ...\n",
       "2016-10-01         102685\n",
       "2016-11-01         795914\n",
       "2016-12-01          60988\n",
       "2017-01-01         138230\n",
       "2017-02-01         671099\n",
       "\n",
       "[86 rows x 1 columns]"
      ]
     },
     "execution_count": 171,
     "metadata": {},
     "output_type": "execute_result"
    }
   ],
   "source": [
    "# Set the date as the index to the Budget data\n",
    "\n",
    "budget_csv = budget_csv.set_index(pd.to_datetime(budget_csv[\"Date\"], infer_datetime_format=True))\n",
    "budget_csv.head()\n",
    "budget_csv.drop([\"Date\"], axis =1)"
   ]
  },
  {
   "cell_type": "code",
   "execution_count": 300,
   "id": "c0146635-681f-4f27-b6fb-bbad7fd0dac0",
   "metadata": {},
   "outputs": [
    {
     "data": {
      "text/plain": [
       "(86, 2)"
      ]
     },
     "execution_count": 300,
     "metadata": {},
     "output_type": "execute_result"
    }
   ],
   "source": [
    "# Data checking 1 - total number (rows,columns)\n",
    "\n",
    "budget_csv.shape"
   ]
  },
  {
   "cell_type": "code",
   "execution_count": 173,
   "id": "3602e350-825d-4bd9-94fc-3644d682e396",
   "metadata": {},
   "outputs": [
    {
     "data": {
      "text/plain": [
       "Date             0.0\n",
       "Profit/Losses    0.0\n",
       "dtype: float64"
      ]
     },
     "execution_count": 173,
     "metadata": {},
     "output_type": "execute_result"
    }
   ],
   "source": [
    "# Data checking 2 - any null values??\n",
    "\n",
    "budget_csv.isnull().mean()*100"
   ]
  },
  {
   "cell_type": "code",
   "execution_count": 301,
   "id": "86a0687c-fd0c-44c2-be0e-c8ec73c83b47",
   "metadata": {},
   "outputs": [
    {
     "data": {
      "text/plain": [
       "86"
      ]
     },
     "execution_count": 301,
     "metadata": {},
     "output_type": "execute_result"
    }
   ],
   "source": [
    "# The total number of months included in the dataset.\n",
    "\n",
    "budget_csv.count()\n",
    "total_months = Date\n",
    "total_months"
   ]
  },
  {
   "cell_type": "code",
   "execution_count": 304,
   "id": "c2243fd3-d6ba-4e12-82e9-f78666db1b36",
   "metadata": {},
   "outputs": [
    {
     "data": {
      "text/plain": [
       "38382578"
      ]
     },
     "execution_count": 304,
     "metadata": {},
     "output_type": "execute_result"
    }
   ],
   "source": [
    "#The net total amount of Profit/Losses over the entire period.\n",
    "\n",
    "total = \"Profit/Losses\"\n",
    "total = budget_csv[total].sum()\n",
    "total"
   ]
  },
  {
   "cell_type": "code",
   "execution_count": 326,
   "id": "a36e5691-f35c-4751-a1a1-7bfe3f696597",
   "metadata": {},
   "outputs": [
    {
     "data": {
      "text/html": [
       "<div>\n",
       "<style scoped>\n",
       "    .dataframe tbody tr th:only-of-type {\n",
       "        vertical-align: middle;\n",
       "    }\n",
       "\n",
       "    .dataframe tbody tr th {\n",
       "        vertical-align: top;\n",
       "    }\n",
       "\n",
       "    .dataframe thead th {\n",
       "        text-align: right;\n",
       "    }\n",
       "</style>\n",
       "<table border=\"1\" class=\"dataframe\">\n",
       "  <thead>\n",
       "    <tr style=\"text-align: right;\">\n",
       "      <th></th>\n",
       "      <th>profit_losses</th>\n",
       "      <th>average_change</th>\n",
       "    </tr>\n",
       "    <tr>\n",
       "      <th>Date</th>\n",
       "      <th></th>\n",
       "      <th></th>\n",
       "    </tr>\n",
       "  </thead>\n",
       "  <tbody>\n",
       "    <tr>\n",
       "      <th>2010-01-01</th>\n",
       "      <td>867884</td>\n",
       "      <td>NaN</td>\n",
       "    </tr>\n",
       "    <tr>\n",
       "      <th>2010-02-01</th>\n",
       "      <td>984655</td>\n",
       "      <td>116771.0</td>\n",
       "    </tr>\n",
       "    <tr>\n",
       "      <th>2010-03-01</th>\n",
       "      <td>322013</td>\n",
       "      <td>-662642.0</td>\n",
       "    </tr>\n",
       "    <tr>\n",
       "      <th>2010-04-01</th>\n",
       "      <td>-69417</td>\n",
       "      <td>-391430.0</td>\n",
       "    </tr>\n",
       "    <tr>\n",
       "      <th>2010-05-01</th>\n",
       "      <td>310503</td>\n",
       "      <td>379920.0</td>\n",
       "    </tr>\n",
       "  </tbody>\n",
       "</table>\n",
       "</div>"
      ],
      "text/plain": [
       "            profit_losses  average_change\n",
       "Date                                     \n",
       "2010-01-01         867884             NaN\n",
       "2010-02-01         984655        116771.0\n",
       "2010-03-01         322013       -662642.0\n",
       "2010-04-01         -69417       -391430.0\n",
       "2010-05-01         310503        379920.0"
      ]
     },
     "execution_count": 326,
     "metadata": {},
     "output_type": "execute_result"
    }
   ],
   "source": [
    "# Changing Profit/Losses and Average Change column names\n",
    "\n",
    "average_change.columns = ([\"profit_losses\", \"average_change\"])\n",
    "\n",
    "# Calculating average of the changes in Profit/Losses over the entire period.\n",
    "\n",
    "average_change = average_change[\"profit_losses\"].to_frame()\n",
    "average_change[\"average_change\"] = average_change[\"profit_losses\"].diff(1)\n",
    "average_change.dropna\n",
    "average_change.head()"
   ]
  },
  {
   "cell_type": "code",
   "execution_count": 259,
   "id": "10f7029d-7653-4c82-8af8-3c4a0890cf81",
   "metadata": {},
   "outputs": [
    {
     "data": {
      "text/plain": [
       "Profit_Losses     446309.05\n",
       "Average_Change     -2315.12\n",
       "dtype: float64"
      ]
     },
     "execution_count": 259,
     "metadata": {},
     "output_type": "execute_result"
    }
   ],
   "source": [
    "# Finding the average of the changes in Profit/Losses over the entire period - Final result and rounded by 2 decimal places\n",
    "\n",
    "avg = round(average_change.mean(), 2)\n",
    "avg"
   ]
  },
  {
   "cell_type": "code",
   "execution_count": 318,
   "id": "40a9a20b-d92f-42d3-b442-e43e93887870",
   "metadata": {},
   "outputs": [
    {
     "data": {
      "text/html": [
       "<div>\n",
       "<style scoped>\n",
       "    .dataframe tbody tr th:only-of-type {\n",
       "        vertical-align: middle;\n",
       "    }\n",
       "\n",
       "    .dataframe tbody tr th {\n",
       "        vertical-align: top;\n",
       "    }\n",
       "\n",
       "    .dataframe thead th {\n",
       "        text-align: right;\n",
       "    }\n",
       "</style>\n",
       "<table border=\"1\" class=\"dataframe\">\n",
       "  <thead>\n",
       "    <tr style=\"text-align: right;\">\n",
       "      <th></th>\n",
       "      <th>average_change</th>\n",
       "    </tr>\n",
       "    <tr>\n",
       "      <th>Date</th>\n",
       "      <th></th>\n",
       "    </tr>\n",
       "  </thead>\n",
       "  <tbody>\n",
       "    <tr>\n",
       "      <th>2012-02-01</th>\n",
       "      <td>1926159.0</td>\n",
       "    </tr>\n",
       "  </tbody>\n",
       "</table>\n",
       "</div>"
      ],
      "text/plain": [
       "            average_change\n",
       "Date                      \n",
       "2012-02-01       1926159.0"
      ]
     },
     "execution_count": 318,
     "metadata": {},
     "output_type": "execute_result"
    }
   ],
   "source": [
    "# Find information for the greatest increase in profits (date and amount) over the entire period.\n",
    "## Dropped the profit_losses column\n",
    "### Then print the information\n",
    "\n",
    "grt_increase = average_change[average_change[\"average_change\"]==average_change[\"average_change\"].max()]\n",
    "grt_increase.drop([\"profit_losses\"], axis=1)"
   ]
  },
  {
   "cell_type": "code",
   "execution_count": 317,
   "id": "fbb38ef5-7fa0-4b07-ac5e-a2d3e5eab60e",
   "metadata": {},
   "outputs": [
    {
     "data": {
      "text/html": [
       "<div>\n",
       "<style scoped>\n",
       "    .dataframe tbody tr th:only-of-type {\n",
       "        vertical-align: middle;\n",
       "    }\n",
       "\n",
       "    .dataframe tbody tr th {\n",
       "        vertical-align: top;\n",
       "    }\n",
       "\n",
       "    .dataframe thead th {\n",
       "        text-align: right;\n",
       "    }\n",
       "</style>\n",
       "<table border=\"1\" class=\"dataframe\">\n",
       "  <thead>\n",
       "    <tr style=\"text-align: right;\">\n",
       "      <th></th>\n",
       "      <th>average_change</th>\n",
       "    </tr>\n",
       "    <tr>\n",
       "      <th>Date</th>\n",
       "      <th></th>\n",
       "    </tr>\n",
       "  </thead>\n",
       "  <tbody>\n",
       "    <tr>\n",
       "      <th>2013-09-01</th>\n",
       "      <td>-2196167.0</td>\n",
       "    </tr>\n",
       "  </tbody>\n",
       "</table>\n",
       "</div>"
      ],
      "text/plain": [
       "            average_change\n",
       "Date                      \n",
       "2013-09-01      -2196167.0"
      ]
     },
     "execution_count": 317,
     "metadata": {},
     "output_type": "execute_result"
    }
   ],
   "source": [
    "# Find information for the greatest decrease in profits (date and amount) over the entire period.\n",
    "## Dropped the profit_losses column\n",
    "### Then print the information\n",
    "\n",
    "grt_decrease = average_change[average_change[\"average_change\"]==average_change[\"average_change\"].min()]\n",
    "grt_decrease.drop([\"profit_losses\"], axis=1)"
   ]
  },
  {
   "cell_type": "code",
   "execution_count": 308,
   "id": "84b36ce3-6cfd-43e9-8923-345cc63a304f",
   "metadata": {},
   "outputs": [
    {
     "data": {
      "text/html": [
       "<div>\n",
       "<style scoped>\n",
       "    .dataframe tbody tr th:only-of-type {\n",
       "        vertical-align: middle;\n",
       "    }\n",
       "\n",
       "    .dataframe tbody tr th {\n",
       "        vertical-align: top;\n",
       "    }\n",
       "\n",
       "    .dataframe thead th {\n",
       "        text-align: right;\n",
       "    }\n",
       "</style>\n",
       "<table border=\"1\" class=\"dataframe\">\n",
       "  <thead>\n",
       "    <tr style=\"text-align: right;\">\n",
       "      <th></th>\n",
       "      <th>profit_losses</th>\n",
       "      <th>average_change</th>\n",
       "    </tr>\n",
       "  </thead>\n",
       "  <tbody>\n",
       "    <tr>\n",
       "      <th>count</th>\n",
       "      <td>8.600000e+01</td>\n",
       "      <td>8.500000e+01</td>\n",
       "    </tr>\n",
       "    <tr>\n",
       "      <th>mean</th>\n",
       "      <td>4.463090e+05</td>\n",
       "      <td>-2.315118e+03</td>\n",
       "    </tr>\n",
       "    <tr>\n",
       "      <th>std</th>\n",
       "      <td>5.363579e+05</td>\n",
       "      <td>7.634372e+05</td>\n",
       "    </tr>\n",
       "    <tr>\n",
       "      <th>min</th>\n",
       "      <td>-1.196225e+06</td>\n",
       "      <td>-2.196167e+06</td>\n",
       "    </tr>\n",
       "    <tr>\n",
       "      <th>25%</th>\n",
       "      <td>1.821620e+05</td>\n",
       "      <td>-3.686650e+05</td>\n",
       "    </tr>\n",
       "    <tr>\n",
       "      <th>50%</th>\n",
       "      <td>5.703280e+05</td>\n",
       "      <td>7.724200e+04</td>\n",
       "    </tr>\n",
       "    <tr>\n",
       "      <th>75%</th>\n",
       "      <td>7.952262e+05</td>\n",
       "      <td>3.983190e+05</td>\n",
       "    </tr>\n",
       "    <tr>\n",
       "      <th>max</th>\n",
       "      <td>1.170593e+06</td>\n",
       "      <td>1.926159e+06</td>\n",
       "    </tr>\n",
       "  </tbody>\n",
       "</table>\n",
       "</div>"
      ],
      "text/plain": [
       "       profit_losses  average_change\n",
       "count   8.600000e+01    8.500000e+01\n",
       "mean    4.463090e+05   -2.315118e+03\n",
       "std     5.363579e+05    7.634372e+05\n",
       "min    -1.196225e+06   -2.196167e+06\n",
       "25%     1.821620e+05   -3.686650e+05\n",
       "50%     5.703280e+05    7.724200e+04\n",
       "75%     7.952262e+05    3.983190e+05\n",
       "max     1.170593e+06    1.926159e+06"
      ]
     },
     "execution_count": 308,
     "metadata": {},
     "output_type": "execute_result"
    }
   ],
   "source": [
    "# Double checking max and min information matches with results extracted above \n",
    "## Utilising the describe function\n",
    "\n",
    "average_change.describe()"
   ]
  },
  {
   "cell_type": "code",
   "execution_count": 311,
   "id": "75ea923d-132c-4c75-98cc-502016febd35",
   "metadata": {},
   "outputs": [
    {
     "name": "stdout",
     "output_type": "stream",
     "text": [
      "Financial Analysis\n",
      "-----------------------------\n",
      "Total Months: 86\n",
      "Total: $38382578\n",
      "Average Change: $-2315.12\n",
      "Greatest Increase in Profits: 2012-02-01 ($1926159.0)\n",
      "Greatest decrease in Profits: 2013-09-01 ($-2196167.0)\n"
     ]
    }
   ],
   "source": [
    "#Printing out the final results analysis for assignment\n",
    "## Information extracted from analysis above using the print and f string function\n",
    "\n",
    "print(f\"Financial Analysis\")\n",
    "print(F\"-----------------------------\")\n",
    "print(f\"Total Months: {total_months}\")\n",
    "print(f\"Total: ${total}\")\n",
    "print(f\"Average Change: $-2315.12\")\n",
    "print(f\"Greatest Increase in Profits: 2012-02-01 ($1926159.0)\")\n",
    "print(f\"Greatest decrease in Profits: 2013-09-01 ($-2196167.0)\")"
   ]
  },
  {
   "cell_type": "code",
   "execution_count": 319,
   "id": "1ede49da-0310-4a43-bb76-e7bc1cb0bd5e",
   "metadata": {},
   "outputs": [],
   "source": [
    "# Printing out the final results analysis for assignment as a text file\n",
    "## Output text file name Financial Analysis\n",
    "\n",
    "output_path = 'Financial Analysis.txt'\n",
    "\n",
    "with open(output_path, 'w') as file:\n",
    "    # Write daily_average to the output file, convert to string\n",
    "    file.write(f\"Financial Analysis\")\n",
    "    file.write(F\"-----------------------------\")\n",
    "    file.write(f\"Total Months: {total_months}\")\n",
    "    file.write(f\"Total: ${total}\")\n",
    "    file.write(f\"Average Change: $-2315.12\")\n",
    "    file.write(f\"Greatest Increase in Profits: 2012-02-01 ($1926159.0)\")\n",
    "    file.write(f\"Greatest decrease in Profits: 2013-09-01 ($-2196167.0)\")"
   ]
  },
  {
   "cell_type": "code",
   "execution_count": null,
   "id": "f2c358f0-0603-4674-9bc1-4d8f30095d46",
   "metadata": {},
   "outputs": [],
   "source": []
  }
 ],
 "metadata": {
  "kernelspec": {
   "display_name": "Python 3 (ipykernel)",
   "language": "python",
   "name": "python3"
  },
  "language_info": {
   "codemirror_mode": {
    "name": "ipython",
    "version": 3
   },
   "file_extension": ".py",
   "mimetype": "text/x-python",
   "name": "python",
   "nbconvert_exporter": "python",
   "pygments_lexer": "ipython3",
   "version": "3.7.11"
  }
 },
 "nbformat": 4,
 "nbformat_minor": 5
}
